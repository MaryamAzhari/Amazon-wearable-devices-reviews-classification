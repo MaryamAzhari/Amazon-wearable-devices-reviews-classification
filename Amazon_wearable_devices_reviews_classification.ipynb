{
  "nbformat": 4,
  "nbformat_minor": 0,
  "metadata": {
    "colab": {
      "name": "Amazon wearable devices reviews classification",
      "provenance": [],
      "collapsed_sections": []
    },
    "kernelspec": {
      "display_name": "Python 3",
      "language": "python",
      "name": "python3"
    },
    "language_info": {
      "codemirror_mode": {
        "name": "ipython",
        "version": 3
      },
      "file_extension": ".py",
      "mimetype": "text/x-python",
      "name": "python",
      "nbconvert_exporter": "python",
      "pygments_lexer": "ipython3",
      "version": "3.7.6"
    },
    "accelerator": "GPU"
  },
  "cells": [
    {
      "cell_type": "code",
      "metadata": {
        "colab": {
          "base_uri": "https://localhost:8080/"
        },
        "id": "XsgQQAl3Wn7U",
        "outputId": "c8cb0aed-2bc0-463f-effc-d4cf43708072"
      },
      "source": [
        "from google.colab import drive\n",
        "drive.mount('/content/drive')"
      ],
      "execution_count": null,
      "outputs": [
        {
          "output_type": "stream",
          "text": [
            "Mounted at /content/drive\n"
          ],
          "name": "stdout"
        }
      ]
    },
    {
      "cell_type": "code",
      "metadata": {
        "id": "s74DNrDlW88o"
      },
      "source": [
        "from sklearn.feature_extraction.text import CountVectorizer, TfidfVectorizer, HashingVectorizer\n",
        "# from wordcloud import WordCloud, STOPWORDS \n",
        "import matplotlib.pyplot as plt \n",
        "from sklearn import metrics\n",
        "from sklearn.metrics import confusion_matrix\n",
        "%matplotlib inline\n",
        "import seaborn as sns\n",
        "import nltk\n",
        "from nltk import sent_tokenize\n",
        "from nltk.corpus import stopwords\n",
        "from nltk import word_tokenize\n",
        "import numpy as np # linear algebra\n",
        "import pandas as pd #data processing\n",
        "from nltk.corpus import stopwords\n",
        "import nltk\n",
        "from nltk.stem import WordNetLemmatizer\n",
        "import os\n",
        "import re\n",
        "import nltk"
      ],
      "execution_count": 1,
      "outputs": []
    },
    {
      "cell_type": "code",
      "metadata": {
        "id": "4FLNsBo6XjpF"
      },
      "source": [
        "df=pd.read_csv('/content/drive/MyDrive/Scrapingreviews.csv')"
      ],
      "execution_count": null,
      "outputs": []
    },
    {
      "cell_type": "code",
      "metadata": {
        "id": "vBD-oeaelS5_"
      },
      "source": [
        "tokenizer = nltk.RegexpTokenizer(r\"\\w+\")"
      ],
      "execution_count": null,
      "outputs": []
    },
    {
      "cell_type": "code",
      "metadata": {
        "colab": {
          "base_uri": "https://localhost:8080/"
        },
        "id": "ekUPtzDPhEPU",
        "outputId": "55209427-1ff0-44f5-ff0d-8d9d6535e659"
      },
      "source": [
        "nltk.download('punkt')"
      ],
      "execution_count": null,
      "outputs": [
        {
          "output_type": "stream",
          "text": [
            "[nltk_data] Downloading package punkt to /root/nltk_data...\n",
            "[nltk_data]   Unzipping tokenizers/punkt.zip.\n"
          ],
          "name": "stdout"
        },
        {
          "output_type": "execute_result",
          "data": {
            "text/plain": [
              "True"
            ]
          },
          "metadata": {
            "tags": []
          },
          "execution_count": 8
        }
      ]
    },
    {
      "cell_type": "code",
      "metadata": {
        "id": "yGJOxq9shTeu"
      },
      "source": [
        "pattern = '[0-9]'\n",
        "real_words = []\n",
        "# iterate through the csv file \n",
        "for val in df.reviews: \n",
        "    # split the value \n",
        "    tokens_words = tokenizer.tokenize(re.sub(pattern, '', str(val)))\n",
        "    # Converts each token into lowercase \n",
        "    for i in range(len(tokens_words)): \n",
        "        tokens_words[i] = tokens_words[i].lower() \n",
        "    real_words.append(tokens_words)"
      ],
      "execution_count": null,
      "outputs": []
    },
    {
      "cell_type": "code",
      "metadata": {
        "id": "ngNOXrLeiIse"
      },
      "source": [
        "real_words"
      ],
      "execution_count": null,
      "outputs": []
    },
    {
      "cell_type": "code",
      "metadata": {
        "id": "9eyeK1L4jt3j"
      },
      "source": [
        "nltk.download('stopwords')"
      ],
      "execution_count": null,
      "outputs": []
    },
    {
      "cell_type": "code",
      "metadata": {
        "id": "Z--asQGFjj3z"
      },
      "source": [
        "stop_words = list(stopwords.words('english'))"
      ],
      "execution_count": null,
      "outputs": []
    },
    {
      "cell_type": "code",
      "metadata": {
        "id": "axayeko7jpw2"
      },
      "source": [
        "# filtered_sentence = [w for w in real_words if not w.lower() in stop_words]\n",
        "filtered_sentence = []\n",
        "filtered_strgs=[]\n",
        "for w in real_words:\n",
        "    if w not in stop_words:\n",
        "        filtered_sentence.append(w)\n",
        "        filtered_strings=''\n",
        "        for s in w:\n",
        "          filtered_strings= filtered_strings + ' '+ s\n",
        "        filtered_strgs.append(filtered_strings)"
      ],
      "execution_count": null,
      "outputs": []
    },
    {
      "cell_type": "code",
      "metadata": {
        "colab": {
          "base_uri": "https://localhost:8080/"
        },
        "id": "2MS29ohXCnIh",
        "outputId": "264a7518-ad8f-42f0-a2af-25fca7ebcecb"
      },
      "source": [
        "len(filtered_strgs)"
      ],
      "execution_count": null,
      "outputs": [
        {
          "output_type": "execute_result",
          "data": {
            "text/plain": [
              "13642"
            ]
          },
          "metadata": {
            "tags": []
          },
          "execution_count": 16
        }
      ]
    },
    {
      "cell_type": "code",
      "metadata": {
        "id": "lG4bUwzPdJLk"
      },
      "source": [
        "sentences=filtered_strgs.copy()"
      ],
      "execution_count": null,
      "outputs": []
    },
    {
      "cell_type": "code",
      "metadata": {
        "id": "E5KWPDI8kc66"
      },
      "source": [
        "def getAnalysis(score):\n",
        "  if score < 0:\n",
        "    return 'Negative'\n",
        "  elif score == 0:\n",
        "    return 'Neutral'\n",
        "  else:\n",
        "    return 'Positive'"
      ],
      "execution_count": null,
      "outputs": []
    },
    {
      "cell_type": "code",
      "metadata": {
        "id": "jM6-JT2-bRpN"
      },
      "source": [
        "!pip install vaderSentiment"
      ],
      "execution_count": null,
      "outputs": []
    },
    {
      "cell_type": "code",
      "metadata": {
        "id": "ZJd0evK_iV1f"
      },
      "source": [
        "from vaderSentiment.vaderSentiment import SentimentIntensityAnalyzer\n",
        "\n",
        "dataframe=pd.DataFrame(columns=['sentence','compound','comp_score'],index=range(13642))\n",
        "sia = SentimentIntensityAnalyzer()\n",
        "\n",
        "for sentence in sentences:\n",
        "    polarity = sia.polarity_scores(sentence)\n",
        "    dataframe['sentence'].iloc[int(sentences.index(sentence))] = sentence\n",
        "    dataframe['compound'].iloc[sentences.index(sentence)] = polarity['compound']\n",
        "    dataframe['comp_score'].iloc[sentences.index(sentence)] = getAnalysis(dataframe['compound'].iloc[sentences.index(sentence)])"
      ],
      "execution_count": null,
      "outputs": []
    },
    {
      "cell_type": "code",
      "metadata": {
        "id": "L-3kfyRcw6NC"
      },
      "source": [
        "dataframe"
      ],
      "execution_count": null,
      "outputs": []
    },
    {
      "cell_type": "code",
      "metadata": {
        "id": "JoXZs3aP5E0S"
      },
      "source": [
        "dataframe.to_csv('/content/drive/MyDrive/Analysis_sentiment_Doc/analysis_sentiment.csv')"
      ],
      "execution_count": null,
      "outputs": []
    },
    {
      "cell_type": "code",
      "metadata": {
        "id": "2qgRy9U29HMx"
      },
      "source": [
        "from sklearn.cluster import AffinityPropagation"
      ],
      "execution_count": null,
      "outputs": []
    },
    {
      "cell_type": "code",
      "metadata": {
        "id": "gG0ieRyGCzGw"
      },
      "source": [
        "dataframe.drop_duplicates(subset=['sentence'], keep = 'first',inplace= True)"
      ],
      "execution_count": null,
      "outputs": []
    },
    {
      "cell_type": "code",
      "metadata": {
        "id": "hq4fsdbjyE3v"
      },
      "source": [
        "dataframe['comp_score'].value_counts()"
      ],
      "execution_count": null,
      "outputs": []
    },
    {
      "cell_type": "code",
      "metadata": {
        "id": "bHITft1WDD3x"
      },
      "source": [
        "dataframe.reset_index(drop=True,inplace=True)"
      ],
      "execution_count": null,
      "outputs": []
    },
    {
      "cell_type": "code",
      "metadata": {
        "id": "ga60FFBvNXkR"
      },
      "source": [
        "dataframe['sentence'].isna().sum()"
      ],
      "execution_count": null,
      "outputs": []
    },
    {
      "cell_type": "code",
      "metadata": {
        "id": "yj7vG9hXPPtq"
      },
      "source": [
        "dataframe.dropna(inplace=True)"
      ],
      "execution_count": null,
      "outputs": []
    },
    {
      "cell_type": "code",
      "metadata": {
        "id": "8Q_4-qwVLx2c"
      },
      "source": [
        "from sklearn.feature_extraction.text import TfidfVectorizer, CountVectorizer\n",
        "tf_idf_vect = CountVectorizer(analyzer='word',ngram_range=(1,1),stop_words='english', min_df = 0.0001)\n",
        "tf_matrix=tf_idf_vect.fit_transform(dataframe['sentence'])"
      ],
      "execution_count": null,
      "outputs": []
    },
    {
      "cell_type": "code",
      "metadata": {
        "id": "TTs4Ca8LP6pa"
      },
      "source": [
        "!pip install KMeans"
      ],
      "execution_count": null,
      "outputs": []
    },
    {
      "cell_type": "code",
      "metadata": {
        "id": "zwl8rYgIQ8JZ"
      },
      "source": [
        "from sklearn.cluster import KMeans"
      ],
      "execution_count": null,
      "outputs": []
    },
    {
      "cell_type": "code",
      "metadata": {
        "id": "6L73duzFP10M"
      },
      "source": [
        "# implement kmeans\n",
        "num_clusters = 3\n",
        "km = KMeans(n_clusters=num_clusters)\n",
        "km.fit(tf_matrix)\n",
        "clusters = km.labels_.tolist()"
      ],
      "execution_count": null,
      "outputs": []
    },
    {
      "cell_type": "code",
      "metadata": {
        "colab": {
          "base_uri": "https://localhost:8080/"
        },
        "id": "Q50WoOvyuWZ_",
        "outputId": "fe275d8d-2acb-48ad-836f-b5ea7f0b6ba0"
      },
      "source": [
        "len(clusters)"
      ],
      "execution_count": null,
      "outputs": [
        {
          "output_type": "execute_result",
          "data": {
            "text/plain": [
              "9835"
            ]
          },
          "metadata": {
            "tags": []
          },
          "execution_count": 40
        }
      ]
    },
    {
      "cell_type": "code",
      "metadata": {
        "colab": {
          "base_uri": "https://localhost:8080/"
        },
        "id": "CGUZIgbAugKf",
        "outputId": "49282c81-10a4-47cb-be24-ce70fad7f249"
      },
      "source": [
        "dataframe.shape"
      ],
      "execution_count": null,
      "outputs": [
        {
          "output_type": "execute_result",
          "data": {
            "text/plain": [
              "(9835, 4)"
            ]
          },
          "metadata": {
            "tags": []
          },
          "execution_count": 41
        }
      ]
    },
    {
      "cell_type": "code",
      "metadata": {
        "colab": {
          "base_uri": "https://localhost:8080/",
          "height": 419
        },
        "id": "G8jXnm-qNqwr",
        "outputId": "3cf874c4-5c13-4083-c4c2-eaf52ffc3eaf"
      },
      "source": [
        "dataframe"
      ],
      "execution_count": null,
      "outputs": [
        {
          "output_type": "execute_result",
          "data": {
            "text/html": [
              "<div>\n",
              "<style scoped>\n",
              "    .dataframe tbody tr th:only-of-type {\n",
              "        vertical-align: middle;\n",
              "    }\n",
              "\n",
              "    .dataframe tbody tr th {\n",
              "        vertical-align: top;\n",
              "    }\n",
              "\n",
              "    .dataframe thead th {\n",
              "        text-align: right;\n",
              "    }\n",
              "</style>\n",
              "<table border=\"1\" class=\"dataframe\">\n",
              "  <thead>\n",
              "    <tr style=\"text-align: right;\">\n",
              "      <th></th>\n",
              "      <th>Unnamed: 0</th>\n",
              "      <th>sentence</th>\n",
              "      <th>compound</th>\n",
              "      <th>comp_score</th>\n",
              "    </tr>\n",
              "  </thead>\n",
              "  <tbody>\n",
              "    <tr>\n",
              "      <th>0</th>\n",
              "      <td>0</td>\n",
              "      <td>i m not sure about data authentication but ni...</td>\n",
              "      <td>0.4971</td>\n",
              "      <td>Positive</td>\n",
              "    </tr>\n",
              "    <tr>\n",
              "      <th>1</th>\n",
              "      <td>1</td>\n",
              "      <td>display clearity is not as expected battery p...</td>\n",
              "      <td>0.7351</td>\n",
              "      <td>Positive</td>\n",
              "    </tr>\n",
              "    <tr>\n",
              "      <th>2</th>\n",
              "      <td>2</td>\n",
              "      <td>most functions except alexa are working as ex...</td>\n",
              "      <td>0.9346</td>\n",
              "      <td>Positive</td>\n",
              "    </tr>\n",
              "    <tr>\n",
              "      <th>3</th>\n",
              "      <td>3</td>\n",
              "      <td>boat xtend st review smart watch working very...</td>\n",
              "      <td>0.9619</td>\n",
              "      <td>Positive</td>\n",
              "    </tr>\n",
              "    <tr>\n",
              "      <th>4</th>\n",
              "      <td>4</td>\n",
              "      <td>very ordinary watch packing looks like a chea...</td>\n",
              "      <td>0.1280</td>\n",
              "      <td>Positive</td>\n",
              "    </tr>\n",
              "    <tr>\n",
              "      <th>...</th>\n",
              "      <td>...</td>\n",
              "      <td>...</td>\n",
              "      <td>...</td>\n",
              "      <td>...</td>\n",
              "    </tr>\n",
              "    <tr>\n",
              "      <th>9831</th>\n",
              "      <td>13637</td>\n",
              "      <td>best smartwatch in the market for android goo...</td>\n",
              "      <td>0.9042</td>\n",
              "      <td>Positive</td>\n",
              "    </tr>\n",
              "    <tr>\n",
              "      <th>9832</th>\n",
              "      <td>13638</td>\n",
              "      <td>most important features works only with samsu...</td>\n",
              "      <td>0.2716</td>\n",
              "      <td>Positive</td>\n",
              "    </tr>\n",
              "    <tr>\n",
              "      <th>9833</th>\n",
              "      <td>13639</td>\n",
              "      <td>i buy this watch two weeks ago and its help m...</td>\n",
              "      <td>0.9409</td>\n",
              "      <td>Positive</td>\n",
              "    </tr>\n",
              "    <tr>\n",
              "      <th>9834</th>\n",
              "      <td>13640</td>\n",
              "      <td>worst battery life but option are more so if ...</td>\n",
              "      <td>-0.3716</td>\n",
              "      <td>Negative</td>\n",
              "    </tr>\n",
              "    <tr>\n",
              "      <th>9835</th>\n",
              "      <td>13641</td>\n",
              "      <td>its not good its not shiwing anything dont bu...</td>\n",
              "      <td>-0.8319</td>\n",
              "      <td>Negative</td>\n",
              "    </tr>\n",
              "  </tbody>\n",
              "</table>\n",
              "<p>9835 rows × 4 columns</p>\n",
              "</div>"
            ],
            "text/plain": [
              "      Unnamed: 0  ... comp_score\n",
              "0              0  ...   Positive\n",
              "1              1  ...   Positive\n",
              "2              2  ...   Positive\n",
              "3              3  ...   Positive\n",
              "4              4  ...   Positive\n",
              "...          ...  ...        ...\n",
              "9831       13637  ...   Positive\n",
              "9832       13638  ...   Positive\n",
              "9833       13639  ...   Positive\n",
              "9834       13640  ...   Negative\n",
              "9835       13641  ...   Negative\n",
              "\n",
              "[9835 rows x 4 columns]"
            ]
          },
          "metadata": {
            "tags": []
          },
          "execution_count": 43
        }
      ]
    },
    {
      "cell_type": "code",
      "metadata": {
        "id": "My09MOyr6rpF"
      },
      "source": [
        "# dataframe.drop(columns=['cluster'],inplace=True)"
      ],
      "execution_count": null,
      "outputs": []
    },
    {
      "cell_type": "code",
      "metadata": {
        "id": "qp1_Vdrd63mC"
      },
      "source": [
        "dataframe.drop(columns=['second_cluster'],inplace=True)"
      ],
      "execution_count": null,
      "outputs": []
    },
    {
      "cell_type": "code",
      "metadata": {
        "id": "iORX0VxEvTSd"
      },
      "source": [
        "dataframe['kmeans-cluster']= pd.Series(clusters)"
      ],
      "execution_count": null,
      "outputs": []
    },
    {
      "cell_type": "code",
      "metadata": {
        "colab": {
          "base_uri": "https://localhost:8080/"
        },
        "id": "LmdhyH62xujT",
        "outputId": "7919cf31-765f-4b7e-89ed-9ee7c84bd7ab"
      },
      "source": [
        "dataframe['comp_score'].value_counts()"
      ],
      "execution_count": null,
      "outputs": [
        {
          "output_type": "execute_result",
          "data": {
            "text/plain": [
              "Positive    6717\n",
              "Negative    2508\n",
              "Neutral      610\n",
              "Name: comp_score, dtype: int64"
            ]
          },
          "metadata": {
            "tags": []
          },
          "execution_count": 46
        }
      ]
    },
    {
      "cell_type": "code",
      "metadata": {
        "colab": {
          "base_uri": "https://localhost:8080/"
        },
        "id": "cQ1_xwFYODQZ",
        "outputId": "d1ddd7d8-1810-4220-d6d5-67cc9f867f19"
      },
      "source": [
        "dataframe.columns"
      ],
      "execution_count": null,
      "outputs": [
        {
          "output_type": "execute_result",
          "data": {
            "text/plain": [
              "Index(['Unnamed: 0', 'sentence', 'compound', 'comp_score', 'kmeans-cluster'], dtype='object')"
            ]
          },
          "metadata": {
            "tags": []
          },
          "execution_count": 49
        }
      ]
    },
    {
      "cell_type": "code",
      "metadata": {
        "colab": {
          "base_uri": "https://localhost:8080/"
        },
        "id": "R6vVm1owxBdi",
        "outputId": "f92e0b4a-45ae-4133-db93-cedb61b8c974"
      },
      "source": [
        "dataframe['kmeans-cluster'].value_counts()"
      ],
      "execution_count": null,
      "outputs": [
        {
          "output_type": "execute_result",
          "data": {
            "text/plain": [
              "1.0    8808\n",
              "0.0    1022\n",
              "2.0       4\n",
              "Name: kmeans-cluster, dtype: int64"
            ]
          },
          "metadata": {
            "tags": []
          },
          "execution_count": 50
        }
      ]
    },
    {
      "cell_type": "code",
      "metadata": {
        "colab": {
          "base_uri": "https://localhost:8080/"
        },
        "id": "LzXNf5v03Y7n",
        "outputId": "9453b3ff-b82a-410d-bed2-f74daba34150"
      },
      "source": [
        "af = AffinityPropagation(preference=-50)\n",
        "af.fit(X=tf_matrix)\n",
        "clusters1 = af.labels_.tolist()"
      ],
      "execution_count": null,
      "outputs": [
        {
          "output_type": "stream",
          "text": [
            "/usr/local/lib/python3.7/dist-packages/sklearn/cluster/_affinity_propagation.py:226: ConvergenceWarning: Affinity propagation did not converge, this model will not have any cluster centers.\n",
            "  \"will not have any cluster centers.\", ConvergenceWarning)\n"
          ],
          "name": "stderr"
        }
      ]
    },
    {
      "cell_type": "code",
      "metadata": {
        "id": "qKPe2YYr4HaX"
      },
      "source": [
        "dataframe['Affinity-cluster']= pd.Series(clusters1)"
      ],
      "execution_count": null,
      "outputs": []
    },
    {
      "cell_type": "code",
      "metadata": {
        "colab": {
          "base_uri": "https://localhost:8080/",
          "height": 419
        },
        "id": "LW2ts0JP52yk",
        "outputId": "9141083f-e98b-48e8-c932-e638325940e7"
      },
      "source": [
        "dataframe"
      ],
      "execution_count": null,
      "outputs": [
        {
          "output_type": "execute_result",
          "data": {
            "text/html": [
              "<div>\n",
              "<style scoped>\n",
              "    .dataframe tbody tr th:only-of-type {\n",
              "        vertical-align: middle;\n",
              "    }\n",
              "\n",
              "    .dataframe tbody tr th {\n",
              "        vertical-align: top;\n",
              "    }\n",
              "\n",
              "    .dataframe thead th {\n",
              "        text-align: right;\n",
              "    }\n",
              "</style>\n",
              "<table border=\"1\" class=\"dataframe\">\n",
              "  <thead>\n",
              "    <tr style=\"text-align: right;\">\n",
              "      <th></th>\n",
              "      <th>Unnamed: 0</th>\n",
              "      <th>sentence</th>\n",
              "      <th>compound</th>\n",
              "      <th>comp_score</th>\n",
              "      <th>kmeans-cluster</th>\n",
              "      <th>Affinity-cluster</th>\n",
              "    </tr>\n",
              "  </thead>\n",
              "  <tbody>\n",
              "    <tr>\n",
              "      <th>0</th>\n",
              "      <td>0</td>\n",
              "      <td>i m not sure about data authentication but ni...</td>\n",
              "      <td>0.4971</td>\n",
              "      <td>Positive</td>\n",
              "      <td>2.0</td>\n",
              "      <td>-1.0</td>\n",
              "    </tr>\n",
              "    <tr>\n",
              "      <th>1</th>\n",
              "      <td>1</td>\n",
              "      <td>display clearity is not as expected battery p...</td>\n",
              "      <td>0.7351</td>\n",
              "      <td>Positive</td>\n",
              "      <td>2.0</td>\n",
              "      <td>-1.0</td>\n",
              "    </tr>\n",
              "    <tr>\n",
              "      <th>2</th>\n",
              "      <td>2</td>\n",
              "      <td>most functions except alexa are working as ex...</td>\n",
              "      <td>0.9346</td>\n",
              "      <td>Positive</td>\n",
              "      <td>2.0</td>\n",
              "      <td>-1.0</td>\n",
              "    </tr>\n",
              "    <tr>\n",
              "      <th>3</th>\n",
              "      <td>3</td>\n",
              "      <td>boat xtend st review smart watch working very...</td>\n",
              "      <td>0.9619</td>\n",
              "      <td>Positive</td>\n",
              "      <td>0.0</td>\n",
              "      <td>-1.0</td>\n",
              "    </tr>\n",
              "    <tr>\n",
              "      <th>4</th>\n",
              "      <td>4</td>\n",
              "      <td>very ordinary watch packing looks like a chea...</td>\n",
              "      <td>0.1280</td>\n",
              "      <td>Positive</td>\n",
              "      <td>2.0</td>\n",
              "      <td>-1.0</td>\n",
              "    </tr>\n",
              "    <tr>\n",
              "      <th>...</th>\n",
              "      <td>...</td>\n",
              "      <td>...</td>\n",
              "      <td>...</td>\n",
              "      <td>...</td>\n",
              "      <td>...</td>\n",
              "      <td>...</td>\n",
              "    </tr>\n",
              "    <tr>\n",
              "      <th>9831</th>\n",
              "      <td>13637</td>\n",
              "      <td>best smartwatch in the market for android goo...</td>\n",
              "      <td>0.9042</td>\n",
              "      <td>Positive</td>\n",
              "      <td>2.0</td>\n",
              "      <td>-1.0</td>\n",
              "    </tr>\n",
              "    <tr>\n",
              "      <th>9832</th>\n",
              "      <td>13638</td>\n",
              "      <td>most important features works only with samsu...</td>\n",
              "      <td>0.2716</td>\n",
              "      <td>Positive</td>\n",
              "      <td>2.0</td>\n",
              "      <td>-1.0</td>\n",
              "    </tr>\n",
              "    <tr>\n",
              "      <th>9833</th>\n",
              "      <td>13639</td>\n",
              "      <td>i buy this watch two weeks ago and its help m...</td>\n",
              "      <td>0.9409</td>\n",
              "      <td>Positive</td>\n",
              "      <td>2.0</td>\n",
              "      <td>-1.0</td>\n",
              "    </tr>\n",
              "    <tr>\n",
              "      <th>9834</th>\n",
              "      <td>13640</td>\n",
              "      <td>worst battery life but option are more so if ...</td>\n",
              "      <td>-0.3716</td>\n",
              "      <td>Negative</td>\n",
              "      <td>2.0</td>\n",
              "      <td>-1.0</td>\n",
              "    </tr>\n",
              "    <tr>\n",
              "      <th>9835</th>\n",
              "      <td>13641</td>\n",
              "      <td>its not good its not shiwing anything dont bu...</td>\n",
              "      <td>-0.8319</td>\n",
              "      <td>Negative</td>\n",
              "      <td>NaN</td>\n",
              "      <td>NaN</td>\n",
              "    </tr>\n",
              "  </tbody>\n",
              "</table>\n",
              "<p>9835 rows × 6 columns</p>\n",
              "</div>"
            ],
            "text/plain": [
              "      Unnamed: 0  ... Affinity-cluster\n",
              "0              0  ...             -1.0\n",
              "1              1  ...             -1.0\n",
              "2              2  ...             -1.0\n",
              "3              3  ...             -1.0\n",
              "4              4  ...             -1.0\n",
              "...          ...  ...              ...\n",
              "9831       13637  ...             -1.0\n",
              "9832       13638  ...             -1.0\n",
              "9833       13639  ...             -1.0\n",
              "9834       13640  ...             -1.0\n",
              "9835       13641  ...              NaN\n",
              "\n",
              "[9835 rows x 6 columns]"
            ]
          },
          "metadata": {
            "tags": []
          },
          "execution_count": 84
        }
      ]
    },
    {
      "cell_type": "code",
      "metadata": {
        "colab": {
          "base_uri": "https://localhost:8080/",
          "height": 419
        },
        "id": "MDQrG96-6QkG",
        "outputId": "da89a5a5-ab37-4a78-eae8-639582de937b"
      },
      "source": [
        "dataframe[dataframe['kmeans-cluster'] == 1.0]"
      ],
      "execution_count": null,
      "outputs": [
        {
          "output_type": "execute_result",
          "data": {
            "text/html": [
              "<div>\n",
              "<style scoped>\n",
              "    .dataframe tbody tr th:only-of-type {\n",
              "        vertical-align: middle;\n",
              "    }\n",
              "\n",
              "    .dataframe tbody tr th {\n",
              "        vertical-align: top;\n",
              "    }\n",
              "\n",
              "    .dataframe thead th {\n",
              "        text-align: right;\n",
              "    }\n",
              "</style>\n",
              "<table border=\"1\" class=\"dataframe\">\n",
              "  <thead>\n",
              "    <tr style=\"text-align: right;\">\n",
              "      <th></th>\n",
              "      <th>Unnamed: 0</th>\n",
              "      <th>sentence</th>\n",
              "      <th>compound</th>\n",
              "      <th>comp_score</th>\n",
              "      <th>kmeans-cluster</th>\n",
              "      <th>Affinity-cluster</th>\n",
              "    </tr>\n",
              "  </thead>\n",
              "  <tbody>\n",
              "    <tr>\n",
              "      <th>0</th>\n",
              "      <td>0</td>\n",
              "      <td>i m not sure about data authentication but ni...</td>\n",
              "      <td>0.4971</td>\n",
              "      <td>Positive</td>\n",
              "      <td>1.0</td>\n",
              "      <td>-1.0</td>\n",
              "    </tr>\n",
              "    <tr>\n",
              "      <th>1</th>\n",
              "      <td>1</td>\n",
              "      <td>display clearity is not as expected battery p...</td>\n",
              "      <td>0.7351</td>\n",
              "      <td>Positive</td>\n",
              "      <td>1.0</td>\n",
              "      <td>-1.0</td>\n",
              "    </tr>\n",
              "    <tr>\n",
              "      <th>2</th>\n",
              "      <td>2</td>\n",
              "      <td>most functions except alexa are working as ex...</td>\n",
              "      <td>0.9346</td>\n",
              "      <td>Positive</td>\n",
              "      <td>1.0</td>\n",
              "      <td>-1.0</td>\n",
              "    </tr>\n",
              "    <tr>\n",
              "      <th>4</th>\n",
              "      <td>4</td>\n",
              "      <td>very ordinary watch packing looks like a chea...</td>\n",
              "      <td>0.1280</td>\n",
              "      <td>Positive</td>\n",
              "      <td>1.0</td>\n",
              "      <td>-1.0</td>\n",
              "    </tr>\n",
              "    <tr>\n",
              "      <th>5</th>\n",
              "      <td>5</td>\n",
              "      <td>have been using it for day now and i have to ...</td>\n",
              "      <td>0.7753</td>\n",
              "      <td>Positive</td>\n",
              "      <td>1.0</td>\n",
              "      <td>-1.0</td>\n",
              "    </tr>\n",
              "    <tr>\n",
              "      <th>...</th>\n",
              "      <td>...</td>\n",
              "      <td>...</td>\n",
              "      <td>...</td>\n",
              "      <td>...</td>\n",
              "      <td>...</td>\n",
              "      <td>...</td>\n",
              "    </tr>\n",
              "    <tr>\n",
              "      <th>9830</th>\n",
              "      <td>13636</td>\n",
              "      <td>not worth for money look wise is very bad sum...</td>\n",
              "      <td>-0.4978</td>\n",
              "      <td>Negative</td>\n",
              "      <td>1.0</td>\n",
              "      <td>-1.0</td>\n",
              "    </tr>\n",
              "    <tr>\n",
              "      <th>9831</th>\n",
              "      <td>13637</td>\n",
              "      <td>best smartwatch in the market for android goo...</td>\n",
              "      <td>0.9042</td>\n",
              "      <td>Positive</td>\n",
              "      <td>1.0</td>\n",
              "      <td>-1.0</td>\n",
              "    </tr>\n",
              "    <tr>\n",
              "      <th>9832</th>\n",
              "      <td>13638</td>\n",
              "      <td>most important features works only with samsu...</td>\n",
              "      <td>0.2716</td>\n",
              "      <td>Positive</td>\n",
              "      <td>1.0</td>\n",
              "      <td>-1.0</td>\n",
              "    </tr>\n",
              "    <tr>\n",
              "      <th>9833</th>\n",
              "      <td>13639</td>\n",
              "      <td>i buy this watch two weeks ago and its help m...</td>\n",
              "      <td>0.9409</td>\n",
              "      <td>Positive</td>\n",
              "      <td>1.0</td>\n",
              "      <td>-1.0</td>\n",
              "    </tr>\n",
              "    <tr>\n",
              "      <th>9834</th>\n",
              "      <td>13640</td>\n",
              "      <td>worst battery life but option are more so if ...</td>\n",
              "      <td>-0.3716</td>\n",
              "      <td>Negative</td>\n",
              "      <td>1.0</td>\n",
              "      <td>-1.0</td>\n",
              "    </tr>\n",
              "  </tbody>\n",
              "</table>\n",
              "<p>8808 rows × 6 columns</p>\n",
              "</div>"
            ],
            "text/plain": [
              "      Unnamed: 0  ... Affinity-cluster\n",
              "0              0  ...             -1.0\n",
              "1              1  ...             -1.0\n",
              "2              2  ...             -1.0\n",
              "4              4  ...             -1.0\n",
              "5              5  ...             -1.0\n",
              "...          ...  ...              ...\n",
              "9830       13636  ...             -1.0\n",
              "9831       13637  ...             -1.0\n",
              "9832       13638  ...             -1.0\n",
              "9833       13639  ...             -1.0\n",
              "9834       13640  ...             -1.0\n",
              "\n",
              "[8808 rows x 6 columns]"
            ]
          },
          "metadata": {
            "tags": []
          },
          "execution_count": 53
        }
      ]
    },
    {
      "cell_type": "code",
      "metadata": {
        "colab": {
          "base_uri": "https://localhost:8080/",
          "height": 173
        },
        "id": "MRac8A057m5e",
        "outputId": "a0921785-d977-40bd-8d84-e91433e91eaf"
      },
      "source": [
        "dataframe[dataframe['kmeans-cluster'] == 2.0]"
      ],
      "execution_count": null,
      "outputs": [
        {
          "output_type": "execute_result",
          "data": {
            "text/html": [
              "<div>\n",
              "<style scoped>\n",
              "    .dataframe tbody tr th:only-of-type {\n",
              "        vertical-align: middle;\n",
              "    }\n",
              "\n",
              "    .dataframe tbody tr th {\n",
              "        vertical-align: top;\n",
              "    }\n",
              "\n",
              "    .dataframe thead th {\n",
              "        text-align: right;\n",
              "    }\n",
              "</style>\n",
              "<table border=\"1\" class=\"dataframe\">\n",
              "  <thead>\n",
              "    <tr style=\"text-align: right;\">\n",
              "      <th></th>\n",
              "      <th>Unnamed: 0</th>\n",
              "      <th>sentence</th>\n",
              "      <th>compound</th>\n",
              "      <th>comp_score</th>\n",
              "      <th>kmeans-cluster</th>\n",
              "      <th>Affinity-cluster</th>\n",
              "    </tr>\n",
              "  </thead>\n",
              "  <tbody>\n",
              "    <tr>\n",
              "      <th>579</th>\n",
              "      <td>643</td>\n",
              "      <td>i ve been using mi band and this one obviousl...</td>\n",
              "      <td>-0.0495</td>\n",
              "      <td>Negative</td>\n",
              "      <td>2.0</td>\n",
              "      <td>-1.0</td>\n",
              "    </tr>\n",
              "    <tr>\n",
              "      <th>2565</th>\n",
              "      <td>3214</td>\n",
              "      <td>i have been using a mi band already so this i...</td>\n",
              "      <td>0.9975</td>\n",
              "      <td>Positive</td>\n",
              "      <td>2.0</td>\n",
              "      <td>-1.0</td>\n",
              "    </tr>\n",
              "    <tr>\n",
              "      <th>2664</th>\n",
              "      <td>3325</td>\n",
              "      <td>over all the new mi band is a cost effective ...</td>\n",
              "      <td>0.9608</td>\n",
              "      <td>Positive</td>\n",
              "      <td>2.0</td>\n",
              "      <td>-1.0</td>\n",
              "    </tr>\n",
              "    <tr>\n",
              "      <th>3048</th>\n",
              "      <td>3710</td>\n",
              "      <td>mi band is a killer in its price range overal...</td>\n",
              "      <td>0.9381</td>\n",
              "      <td>Positive</td>\n",
              "      <td>2.0</td>\n",
              "      <td>-1.0</td>\n",
              "    </tr>\n",
              "  </tbody>\n",
              "</table>\n",
              "</div>"
            ],
            "text/plain": [
              "      Unnamed: 0  ... Affinity-cluster\n",
              "579          643  ...             -1.0\n",
              "2565        3214  ...             -1.0\n",
              "2664        3325  ...             -1.0\n",
              "3048        3710  ...             -1.0\n",
              "\n",
              "[4 rows x 6 columns]"
            ]
          },
          "metadata": {
            "tags": []
          },
          "execution_count": 54
        }
      ]
    },
    {
      "cell_type": "code",
      "metadata": {
        "colab": {
          "base_uri": "https://localhost:8080/",
          "height": 419
        },
        "id": "U-dzMH7S7sgF",
        "outputId": "bf56082d-8336-4212-99a8-a6e3674286d1"
      },
      "source": [
        "dataframe[dataframe['kmeans-cluster'] == 0.0]"
      ],
      "execution_count": null,
      "outputs": [
        {
          "output_type": "execute_result",
          "data": {
            "text/html": [
              "<div>\n",
              "<style scoped>\n",
              "    .dataframe tbody tr th:only-of-type {\n",
              "        vertical-align: middle;\n",
              "    }\n",
              "\n",
              "    .dataframe tbody tr th {\n",
              "        vertical-align: top;\n",
              "    }\n",
              "\n",
              "    .dataframe thead th {\n",
              "        text-align: right;\n",
              "    }\n",
              "</style>\n",
              "<table border=\"1\" class=\"dataframe\">\n",
              "  <thead>\n",
              "    <tr style=\"text-align: right;\">\n",
              "      <th></th>\n",
              "      <th>Unnamed: 0</th>\n",
              "      <th>sentence</th>\n",
              "      <th>compound</th>\n",
              "      <th>comp_score</th>\n",
              "      <th>kmeans-cluster</th>\n",
              "      <th>Affinity-cluster</th>\n",
              "    </tr>\n",
              "  </thead>\n",
              "  <tbody>\n",
              "    <tr>\n",
              "      <th>3</th>\n",
              "      <td>3</td>\n",
              "      <td>boat xtend st review smart watch working very...</td>\n",
              "      <td>0.9619</td>\n",
              "      <td>Positive</td>\n",
              "      <td>0.0</td>\n",
              "      <td>-1.0</td>\n",
              "    </tr>\n",
              "    <tr>\n",
              "      <th>7</th>\n",
              "      <td>7</td>\n",
              "      <td>your browser does not support html video my s...</td>\n",
              "      <td>0.9416</td>\n",
              "      <td>Positive</td>\n",
              "      <td>0.0</td>\n",
              "      <td>-1.0</td>\n",
              "    </tr>\n",
              "    <tr>\n",
              "      <th>13</th>\n",
              "      <td>22</td>\n",
              "      <td>watch is very beautiful and it reaches the cu...</td>\n",
              "      <td>0.8070</td>\n",
              "      <td>Positive</td>\n",
              "      <td>0.0</td>\n",
              "      <td>-1.0</td>\n",
              "    </tr>\n",
              "    <tr>\n",
              "      <th>14</th>\n",
              "      <td>23</td>\n",
              "      <td>i brought so many products of boat brand and ...</td>\n",
              "      <td>0.9826</td>\n",
              "      <td>Positive</td>\n",
              "      <td>0.0</td>\n",
              "      <td>-1.0</td>\n",
              "    </tr>\n",
              "    <tr>\n",
              "      <th>15</th>\n",
              "      <td>24</td>\n",
              "      <td>i would say its a best watch under few key po...</td>\n",
              "      <td>0.9888</td>\n",
              "      <td>Positive</td>\n",
              "      <td>0.0</td>\n",
              "      <td>-1.0</td>\n",
              "    </tr>\n",
              "    <tr>\n",
              "      <th>...</th>\n",
              "      <td>...</td>\n",
              "      <td>...</td>\n",
              "      <td>...</td>\n",
              "      <td>...</td>\n",
              "      <td>...</td>\n",
              "      <td>...</td>\n",
              "    </tr>\n",
              "    <tr>\n",
              "      <th>9714</th>\n",
              "      <td>13511</td>\n",
              "      <td>this is the best that your android can work w...</td>\n",
              "      <td>0.8020</td>\n",
              "      <td>Positive</td>\n",
              "      <td>0.0</td>\n",
              "      <td>-1.0</td>\n",
              "    </tr>\n",
              "    <tr>\n",
              "      <th>9723</th>\n",
              "      <td>13520</td>\n",
              "      <td>awesome watch but i preferred a rubber strap ...</td>\n",
              "      <td>0.9169</td>\n",
              "      <td>Positive</td>\n",
              "      <td>0.0</td>\n",
              "      <td>-1.0</td>\n",
              "    </tr>\n",
              "    <tr>\n",
              "      <th>9815</th>\n",
              "      <td>13621</td>\n",
              "      <td>my friend bought this watch and i bought a sm...</td>\n",
              "      <td>-0.0429</td>\n",
              "      <td>Negative</td>\n",
              "      <td>0.0</td>\n",
              "      <td>-1.0</td>\n",
              "    </tr>\n",
              "    <tr>\n",
              "      <th>9816</th>\n",
              "      <td>13622</td>\n",
              "      <td>i have watch lte model mm it is pretty expens...</td>\n",
              "      <td>0.9769</td>\n",
              "      <td>Positive</td>\n",
              "      <td>0.0</td>\n",
              "      <td>-1.0</td>\n",
              "    </tr>\n",
              "    <tr>\n",
              "      <th>9817</th>\n",
              "      <td>13623</td>\n",
              "      <td>this watch is so cool pros excellent displayc...</td>\n",
              "      <td>0.9915</td>\n",
              "      <td>Positive</td>\n",
              "      <td>0.0</td>\n",
              "      <td>-1.0</td>\n",
              "    </tr>\n",
              "  </tbody>\n",
              "</table>\n",
              "<p>1022 rows × 6 columns</p>\n",
              "</div>"
            ],
            "text/plain": [
              "      Unnamed: 0  ... Affinity-cluster\n",
              "3              3  ...             -1.0\n",
              "7              7  ...             -1.0\n",
              "13            22  ...             -1.0\n",
              "14            23  ...             -1.0\n",
              "15            24  ...             -1.0\n",
              "...          ...  ...              ...\n",
              "9714       13511  ...             -1.0\n",
              "9723       13520  ...             -1.0\n",
              "9815       13621  ...             -1.0\n",
              "9816       13622  ...             -1.0\n",
              "9817       13623  ...             -1.0\n",
              "\n",
              "[1022 rows x 6 columns]"
            ]
          },
          "metadata": {
            "tags": []
          },
          "execution_count": 55
        }
      ]
    },
    {
      "cell_type": "code",
      "metadata": {
        "id": "oZAa1V8i7wI9"
      },
      "source": [
        "from sklearn.cluster import AgglomerativeClustering\n",
        "aglo = AgglomerativeClustering(n_clusters=3, affinity='euclidean', linkage='single')\n",
        "dataframe['Aglo-cluster']=aglo.fit_predict(tf_matrix.toarray())"
      ],
      "execution_count": null,
      "outputs": []
    },
    {
      "cell_type": "code",
      "metadata": {
        "colab": {
          "base_uri": "https://localhost:8080/",
          "height": 173
        },
        "id": "aKvkm4oJ6iHj",
        "outputId": "3b37474a-06af-4122-da6f-e1e520758fef"
      },
      "source": [
        "dataframe[dataframe['kmeans-cluster'] == 2.0]"
      ],
      "execution_count": null,
      "outputs": [
        {
          "output_type": "execute_result",
          "data": {
            "text/html": [
              "<div>\n",
              "<style scoped>\n",
              "    .dataframe tbody tr th:only-of-type {\n",
              "        vertical-align: middle;\n",
              "    }\n",
              "\n",
              "    .dataframe tbody tr th {\n",
              "        vertical-align: top;\n",
              "    }\n",
              "\n",
              "    .dataframe thead th {\n",
              "        text-align: right;\n",
              "    }\n",
              "</style>\n",
              "<table border=\"1\" class=\"dataframe\">\n",
              "  <thead>\n",
              "    <tr style=\"text-align: right;\">\n",
              "      <th></th>\n",
              "      <th>Unnamed: 0</th>\n",
              "      <th>sentence</th>\n",
              "      <th>compound</th>\n",
              "      <th>comp_score</th>\n",
              "      <th>kmeans-cluster</th>\n",
              "      <th>Affinity-cluster</th>\n",
              "      <th>Aglo-cluster</th>\n",
              "    </tr>\n",
              "  </thead>\n",
              "  <tbody>\n",
              "    <tr>\n",
              "      <th>579</th>\n",
              "      <td>643</td>\n",
              "      <td>i ve been using mi band and this one obviousl...</td>\n",
              "      <td>-0.0495</td>\n",
              "      <td>Negative</td>\n",
              "      <td>2.0</td>\n",
              "      <td>-1.0</td>\n",
              "      <td>0</td>\n",
              "    </tr>\n",
              "    <tr>\n",
              "      <th>2565</th>\n",
              "      <td>3214</td>\n",
              "      <td>i have been using a mi band already so this i...</td>\n",
              "      <td>0.9975</td>\n",
              "      <td>Positive</td>\n",
              "      <td>2.0</td>\n",
              "      <td>-1.0</td>\n",
              "      <td>0</td>\n",
              "    </tr>\n",
              "    <tr>\n",
              "      <th>2664</th>\n",
              "      <td>3325</td>\n",
              "      <td>over all the new mi band is a cost effective ...</td>\n",
              "      <td>0.9608</td>\n",
              "      <td>Positive</td>\n",
              "      <td>2.0</td>\n",
              "      <td>-1.0</td>\n",
              "      <td>0</td>\n",
              "    </tr>\n",
              "    <tr>\n",
              "      <th>3048</th>\n",
              "      <td>3710</td>\n",
              "      <td>mi band is a killer in its price range overal...</td>\n",
              "      <td>0.9381</td>\n",
              "      <td>Positive</td>\n",
              "      <td>2.0</td>\n",
              "      <td>-1.0</td>\n",
              "      <td>0</td>\n",
              "    </tr>\n",
              "  </tbody>\n",
              "</table>\n",
              "</div>"
            ],
            "text/plain": [
              "      Unnamed: 0  ... Aglo-cluster\n",
              "579          643  ...            0\n",
              "2565        3214  ...            0\n",
              "2664        3325  ...            0\n",
              "3048        3710  ...            0\n",
              "\n",
              "[4 rows x 7 columns]"
            ]
          },
          "metadata": {
            "tags": []
          },
          "execution_count": 57
        }
      ]
    },
    {
      "cell_type": "code",
      "metadata": {
        "id": "Tko3cw9l6ltA"
      },
      "source": [
        "# birch clustering\n",
        "from numpy import unique\n",
        "from numpy import where\n",
        "from sklearn.datasets import make_classification\n",
        "from sklearn.cluster import Birch\n",
        "from matplotlib import pyplot\n",
        "X = tf_matrix\n",
        "model = Birch(threshold=0.01, n_clusters=3)\n",
        "# fit the model\n",
        "model.fit(X)\n",
        "# assign a cluster to each example\n",
        "y = model.predict(X)\n",
        "# retrieve unique clusters\n",
        "clusters = unique(y)"
      ],
      "execution_count": null,
      "outputs": []
    },
    {
      "cell_type": "code",
      "metadata": {
        "id": "WSzqBWRKLHMi"
      },
      "source": [
        "dataframe['Birch_cluster']= clusters"
      ],
      "execution_count": null,
      "outputs": []
    }
  ]
}